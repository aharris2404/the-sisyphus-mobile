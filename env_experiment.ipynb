{
 "cells": [
  {
   "cell_type": "code",
   "execution_count": 6,
   "metadata": {},
   "outputs": [
    {
     "name": "stdout",
     "output_type": "stream",
     "text": [
      "Requirement already satisfied: gymnasium[classic-control] in /home/andrew/anaconda3/envs/hanami/lib/python3.10/site-packages (0.28.1)\n",
      "Requirement already satisfied: cloudpickle>=1.2.0 in /home/andrew/anaconda3/envs/hanami/lib/python3.10/site-packages (from gymnasium[classic-control]) (2.2.1)\n",
      "Requirement already satisfied: typing-extensions>=4.3.0 in /home/andrew/anaconda3/envs/hanami/lib/python3.10/site-packages (from gymnasium[classic-control]) (4.5.0)\n",
      "Requirement already satisfied: numpy>=1.21.0 in /home/andrew/anaconda3/envs/hanami/lib/python3.10/site-packages (from gymnasium[classic-control]) (1.24.2)\n",
      "Requirement already satisfied: farama-notifications>=0.0.1 in /home/andrew/anaconda3/envs/hanami/lib/python3.10/site-packages (from gymnasium[classic-control]) (0.0.4)\n",
      "Requirement already satisfied: jax-jumpy>=1.0.0 in /home/andrew/anaconda3/envs/hanami/lib/python3.10/site-packages (from gymnasium[classic-control]) (1.0.0)\n",
      "Requirement already satisfied: pygame==2.1.3 in /home/andrew/anaconda3/envs/hanami/lib/python3.10/site-packages (from gymnasium[classic-control]) (2.1.3)\n"
     ]
    }
   ],
   "source": [
    "!pip install gymnasium[classic-control]"
   ]
  },
  {
   "cell_type": "code",
   "execution_count": 7,
   "metadata": {},
   "outputs": [],
   "source": [
    "import gymnasium as gym"
   ]
  },
  {
   "cell_type": "code",
   "execution_count": 9,
   "metadata": {},
   "outputs": [],
   "source": [
    "env = gym.make('MountainCar-v0', render_mode=\"human\")\n",
    "observation, info = env.reset()\n",
    "\n",
    "for _ in range(1000):\n",
    "    action = env.action_space.sample()  # agent policy that uses the observation and info\n",
    "    observation, reward, terminated, truncated, info = env.step(action)\n",
    "\n",
    "    if terminated or truncated:\n",
    "        observation, info = env.reset()\n",
    "\n",
    "env.close()"
   ]
  },
  {
   "cell_type": "code",
   "execution_count": null,
   "metadata": {},
   "outputs": [],
   "source": []
  }
 ],
 "metadata": {
  "kernelspec": {
   "display_name": "Python (hanami)",
   "language": "python",
   "name": "hanami"
  },
  "language_info": {
   "codemirror_mode": {
    "name": "ipython",
    "version": 3
   },
   "file_extension": ".py",
   "mimetype": "text/x-python",
   "name": "python",
   "nbconvert_exporter": "python",
   "pygments_lexer": "ipython3",
   "version": "3.10.10"
  }
 },
 "nbformat": 4,
 "nbformat_minor": 2
}
